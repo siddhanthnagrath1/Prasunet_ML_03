{
 "cells": [
  {
   "cell_type": "code",
   "execution_count": 1,
   "id": "8c97624b",
   "metadata": {},
   "outputs": [],
   "source": [
    "import os\n",
    "import cv2\n",
    "import matplotlib.pyplot as plt\n",
    "from PIL import Image\n",
    "import numpy as np\n",
    "import pandas as pd"
   ]
  },
  {
   "cell_type": "code",
   "execution_count": 2,
   "id": "342196fc",
   "metadata": {},
   "outputs": [
    {
     "name": "stdout",
     "output_type": "stream",
     "text": [
      "train images -> ['cat.0.jpg', 'cat.1.jpg', 'cat.10.jpg', 'cat.100.jpg', 'cat.1000.jpg']\n",
      "test images -> ['1.jpg', '10.jpg', '100.jpg', '1000.jpg', '10000.jpg']\n"
     ]
    }
   ],
   "source": [
    "dataset_path = '../data'\n",
    "train_images = os.listdir(os.path.join(dataset_path, 'train'))\n",
    "test_images = os.listdir(os.path.join(dataset_path, 'test1'))\n",
    "print('train images ->', train_images[:5])\n",
    "print('test images ->', test_images[:5])"
   ]
  },
  {
   "cell_type": "markdown",
   "id": "c62e74b3",
   "metadata": {},
   "source": [
    "## `Converting Images`"
   ]
  },
  {
   "cell_type": "code",
   "execution_count": 12,
   "id": "7670d1b7",
   "metadata": {},
   "outputs": [],
   "source": [
    "h = 50\n",
    "w = 50\n",
    "\n",
    "def convert_images(images, dataset_path):\n",
    "    flatten_imgs = []\n",
    "    \n",
    "    for image in images:\n",
    "        img = cv2.imread(os.path.join(dataset_path, 'train', image))\n",
    "        \n",
    "        if img is None: \n",
    "            continue\n",
    "        \n",
    "        img = cv2.cvtColor(img, cv2.COLOR_BGR2GRAY)\n",
    "        img = cv2.resize(img, (h, w))\n",
    "        img = img / 255.0\n",
    "        \n",
    "        flatten_img = img.flatten()\n",
    "        label = 1 if image.startswith('cat') else 2\n",
    "        \n",
    "        flatten_img = list(flatten_img) + [label]\n",
    "        flatten_imgs.append(flatten_img)\n",
    "    \n",
    "    columns = [f'pixel{i}' for i in range(h*w)] + ['Class']\n",
    "    \n",
    "    res = pd.DataFrame(flatten_imgs, columns=columns)    \n",
    "    res['Class'] = res['Class'].astype('int8')  # Optionally set the 'Class' column to a smaller int type\n",
    "    \n",
    "    return res\n",
    "\n",
    "batch_size = 2500\n",
    "dataset = pd.DataFrame()\n",
    "for start in range(0, len(train_images), batch_size):\n",
    "    images = train_images[start:start + batch_size]\n",
    "    image_list = convert_images(images, dataset_path)\n",
    "    dataset = pd.concat([dataset, image_list], ignore_index=True)"
   ]
  },
  {
   "cell_type": "code",
   "execution_count": 13,
   "id": "2da171c9",
   "metadata": {},
   "outputs": [
    {
     "data": {
      "text/plain": [
       "(25000, 2501)"
      ]
     },
     "execution_count": 13,
     "metadata": {},
     "output_type": "execute_result"
    }
   ],
   "source": [
    "dataset.shape"
   ]
  },
  {
   "cell_type": "code",
   "execution_count": 14,
   "id": "1c3752ff",
   "metadata": {},
   "outputs": [
    {
     "data": {
      "text/html": [
       "<div>\n",
       "<style scoped>\n",
       "    .dataframe tbody tr th:only-of-type {\n",
       "        vertical-align: middle;\n",
       "    }\n",
       "\n",
       "    .dataframe tbody tr th {\n",
       "        vertical-align: top;\n",
       "    }\n",
       "\n",
       "    .dataframe thead th {\n",
       "        text-align: right;\n",
       "    }\n",
       "</style>\n",
       "<table border=\"1\" class=\"dataframe\">\n",
       "  <thead>\n",
       "    <tr style=\"text-align: right;\">\n",
       "      <th></th>\n",
       "      <th>pixel0</th>\n",
       "      <th>pixel1</th>\n",
       "      <th>pixel2</th>\n",
       "      <th>pixel3</th>\n",
       "      <th>pixel4</th>\n",
       "      <th>pixel5</th>\n",
       "      <th>pixel6</th>\n",
       "      <th>pixel7</th>\n",
       "      <th>pixel8</th>\n",
       "      <th>pixel9</th>\n",
       "      <th>...</th>\n",
       "      <th>pixel2491</th>\n",
       "      <th>pixel2492</th>\n",
       "      <th>pixel2493</th>\n",
       "      <th>pixel2494</th>\n",
       "      <th>pixel2495</th>\n",
       "      <th>pixel2496</th>\n",
       "      <th>pixel2497</th>\n",
       "      <th>pixel2498</th>\n",
       "      <th>pixel2499</th>\n",
       "      <th>Class</th>\n",
       "    </tr>\n",
       "  </thead>\n",
       "  <tbody>\n",
       "    <tr>\n",
       "      <th>0</th>\n",
       "      <td>0.674510</td>\n",
       "      <td>0.705882</td>\n",
       "      <td>0.729412</td>\n",
       "      <td>0.749020</td>\n",
       "      <td>0.772549</td>\n",
       "      <td>0.792157</td>\n",
       "      <td>0.800000</td>\n",
       "      <td>0.815686</td>\n",
       "      <td>0.827451</td>\n",
       "      <td>0.843137</td>\n",
       "      <td>...</td>\n",
       "      <td>0.054902</td>\n",
       "      <td>0.054902</td>\n",
       "      <td>0.035294</td>\n",
       "      <td>0.015686</td>\n",
       "      <td>0.015686</td>\n",
       "      <td>0.007843</td>\n",
       "      <td>0.007843</td>\n",
       "      <td>0.007843</td>\n",
       "      <td>0.007843</td>\n",
       "      <td>1</td>\n",
       "    </tr>\n",
       "    <tr>\n",
       "      <th>1</th>\n",
       "      <td>0.164706</td>\n",
       "      <td>0.227451</td>\n",
       "      <td>0.149020</td>\n",
       "      <td>0.164706</td>\n",
       "      <td>0.172549</td>\n",
       "      <td>0.145098</td>\n",
       "      <td>0.149020</td>\n",
       "      <td>0.152941</td>\n",
       "      <td>0.160784</td>\n",
       "      <td>0.172549</td>\n",
       "      <td>...</td>\n",
       "      <td>0.254902</td>\n",
       "      <td>0.337255</td>\n",
       "      <td>0.211765</td>\n",
       "      <td>0.152941</td>\n",
       "      <td>0.196078</td>\n",
       "      <td>0.227451</td>\n",
       "      <td>0.223529</td>\n",
       "      <td>0.243137</td>\n",
       "      <td>0.113725</td>\n",
       "      <td>1</td>\n",
       "    </tr>\n",
       "    <tr>\n",
       "      <th>2</th>\n",
       "      <td>0.172549</td>\n",
       "      <td>0.184314</td>\n",
       "      <td>0.207843</td>\n",
       "      <td>0.227451</td>\n",
       "      <td>0.219608</td>\n",
       "      <td>0.203922</td>\n",
       "      <td>0.200000</td>\n",
       "      <td>0.188235</td>\n",
       "      <td>0.164706</td>\n",
       "      <td>0.172549</td>\n",
       "      <td>...</td>\n",
       "      <td>0.290196</td>\n",
       "      <td>0.290196</td>\n",
       "      <td>0.305882</td>\n",
       "      <td>0.454902</td>\n",
       "      <td>0.615686</td>\n",
       "      <td>0.619608</td>\n",
       "      <td>0.560784</td>\n",
       "      <td>0.639216</td>\n",
       "      <td>0.647059</td>\n",
       "      <td>1</td>\n",
       "    </tr>\n",
       "    <tr>\n",
       "      <th>3</th>\n",
       "      <td>0.866667</td>\n",
       "      <td>0.878431</td>\n",
       "      <td>0.921569</td>\n",
       "      <td>0.929412</td>\n",
       "      <td>0.874510</td>\n",
       "      <td>0.890196</td>\n",
       "      <td>0.913725</td>\n",
       "      <td>0.894118</td>\n",
       "      <td>0.886275</td>\n",
       "      <td>0.878431</td>\n",
       "      <td>...</td>\n",
       "      <td>0.964706</td>\n",
       "      <td>0.960784</td>\n",
       "      <td>0.929412</td>\n",
       "      <td>0.894118</td>\n",
       "      <td>0.850980</td>\n",
       "      <td>0.803922</td>\n",
       "      <td>0.823529</td>\n",
       "      <td>0.862745</td>\n",
       "      <td>0.831373</td>\n",
       "      <td>1</td>\n",
       "    </tr>\n",
       "    <tr>\n",
       "      <th>4</th>\n",
       "      <td>0.443137</td>\n",
       "      <td>0.486275</td>\n",
       "      <td>0.356863</td>\n",
       "      <td>0.525490</td>\n",
       "      <td>0.772549</td>\n",
       "      <td>0.600000</td>\n",
       "      <td>0.811765</td>\n",
       "      <td>0.901961</td>\n",
       "      <td>0.588235</td>\n",
       "      <td>0.992157</td>\n",
       "      <td>...</td>\n",
       "      <td>0.392157</td>\n",
       "      <td>0.384314</td>\n",
       "      <td>0.376471</td>\n",
       "      <td>0.392157</td>\n",
       "      <td>0.345098</td>\n",
       "      <td>0.325490</td>\n",
       "      <td>0.419608</td>\n",
       "      <td>0.356863</td>\n",
       "      <td>0.356863</td>\n",
       "      <td>1</td>\n",
       "    </tr>\n",
       "  </tbody>\n",
       "</table>\n",
       "<p>5 rows × 2501 columns</p>\n",
       "</div>"
      ],
      "text/plain": [
       "     pixel0    pixel1    pixel2    pixel3    pixel4    pixel5    pixel6  \\\n",
       "0  0.674510  0.705882  0.729412  0.749020  0.772549  0.792157  0.800000   \n",
       "1  0.164706  0.227451  0.149020  0.164706  0.172549  0.145098  0.149020   \n",
       "2  0.172549  0.184314  0.207843  0.227451  0.219608  0.203922  0.200000   \n",
       "3  0.866667  0.878431  0.921569  0.929412  0.874510  0.890196  0.913725   \n",
       "4  0.443137  0.486275  0.356863  0.525490  0.772549  0.600000  0.811765   \n",
       "\n",
       "     pixel7    pixel8    pixel9  ...  pixel2491  pixel2492  pixel2493  \\\n",
       "0  0.815686  0.827451  0.843137  ...   0.054902   0.054902   0.035294   \n",
       "1  0.152941  0.160784  0.172549  ...   0.254902   0.337255   0.211765   \n",
       "2  0.188235  0.164706  0.172549  ...   0.290196   0.290196   0.305882   \n",
       "3  0.894118  0.886275  0.878431  ...   0.964706   0.960784   0.929412   \n",
       "4  0.901961  0.588235  0.992157  ...   0.392157   0.384314   0.376471   \n",
       "\n",
       "   pixel2494  pixel2495  pixel2496  pixel2497  pixel2498  pixel2499  Class  \n",
       "0   0.015686   0.015686   0.007843   0.007843   0.007843   0.007843      1  \n",
       "1   0.152941   0.196078   0.227451   0.223529   0.243137   0.113725      1  \n",
       "2   0.454902   0.615686   0.619608   0.560784   0.639216   0.647059      1  \n",
       "3   0.894118   0.850980   0.803922   0.823529   0.862745   0.831373      1  \n",
       "4   0.392157   0.345098   0.325490   0.419608   0.356863   0.356863      1  \n",
       "\n",
       "[5 rows x 2501 columns]"
      ]
     },
     "execution_count": 14,
     "metadata": {},
     "output_type": "execute_result"
    }
   ],
   "source": [
    "dataset.head()"
   ]
  },
  {
   "cell_type": "code",
   "execution_count": 15,
   "id": "fcf4df56",
   "metadata": {},
   "outputs": [
    {
     "name": "stdout",
     "output_type": "stream",
     "text": [
      "<class 'pandas.core.frame.DataFrame'>\n",
      "RangeIndex: 25000 entries, 0 to 24999\n",
      "Columns: 2501 entries, pixel0 to Class\n",
      "dtypes: float32(2500), int8(1)\n",
      "memory usage: 238.4 MB\n"
     ]
    }
   ],
   "source": [
    "dataset.info()"
   ]
  },
  {
   "cell_type": "code",
   "execution_count": 18,
   "id": "80830b43",
   "metadata": {},
   "outputs": [
    {
     "data": {
      "image/png": "[encoded data removed]",
      "text/plain": [
       "<Figure size 640x480 with 1 Axes>"
      ]
     },
     "metadata": {},
     "output_type": "display_data"
    }
   ],
   "source": [
    "img = dataset.iloc[12502, :-1].values\n",
    "img = img.reshape((h,w))\n",
    "img = img.astype('float16')\n",
    "plt.imshow(img, cmap = 'gray')\n",
    "plt.show()"
   ]
  },
  {
   "cell_type": "code",
   "execution_count": 19,
   "id": "1d506d37",
   "metadata": {},
   "outputs": [
    {
     "data": {
      "text/plain": [
       "(25000, 2501)"
      ]
     },
     "execution_count": 19,
     "metadata": {},
     "output_type": "execute_result"
    }
   ],
   "source": [
    "dataset.shape"
   ]
  },
  {
   "cell_type": "code",
   "execution_count": 20,
   "id": "242ce7cc",
   "metadata": {},
   "outputs": [],
   "source": [
    "dataset.to_csv('../data/dogvscat_dataset.csv', index = False)"
   ]
  },
  {
   "cell_type": "code",
   "execution_count": null,
   "id": "dc010c02",
   "metadata": {},
   "outputs": [],
   "source": []
  }
 ],
 "metadata": {
  "kernelspec": {
   "display_name": "Python 3 (ipykernel)",
   "language": "python",
   "name": "python3"
  },
  "language_info": {
   "codemirror_mode": {
    "name": "ipython",
    "version": 3
   },
   "file_extension": ".py",
   "mimetype": "text/x-python",
   "name": "python",
   "nbconvert_exporter": "python",
   "pygments_lexer": "ipython3",
   "version": "3.11.9"
  }
 },
 "nbformat": 4,
 "nbformat_minor": 5
}
